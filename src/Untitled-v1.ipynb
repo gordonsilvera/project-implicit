{
 "cells": [
  {
   "cell_type": "code",
   "execution_count": 2,
   "metadata": {},
   "outputs": [],
   "source": [
    "# !python /home/jovyan/work/src/set_import_paths.py\n",
    "import pandas as pd\n",
    "# from savReaderWriter import SavReader"
   ]
  },
  {
   "cell_type": "code",
   "execution_count": 3,
   "metadata": {},
   "outputs": [],
   "source": [
    "sav_file = \"/home/jovyan/project-implicit/data/race_iat/Race_IAT.public.2019.sav\""
   ]
  },
  {
   "cell_type": "code",
   "execution_count": 4,
   "metadata": {},
   "outputs": [],
   "source": [
    "# df = pd.read_spss(sav_file)"
   ]
  },
  {
   "cell_type": "code",
   "execution_count": 5,
   "metadata": {},
   "outputs": [
    {
     "ename": "ModuleNotFoundError",
     "evalue": "No module named 'google.cloud'",
     "output_type": "error",
     "traceback": [
      "\u001b[0;31m---------------------------------------------------------------------------\u001b[0m",
      "\u001b[0;31mModuleNotFoundError\u001b[0m                       Traceback (most recent call last)",
      "\u001b[0;32m<ipython-input-5-3c273a9521e8>\u001b[0m in \u001b[0;36m<module>\u001b[0;34m\u001b[0m\n\u001b[1;32m      1\u001b[0m \u001b[0;32mfrom\u001b[0m \u001b[0mdatabase_connection\u001b[0m \u001b[0;32mimport\u001b[0m \u001b[0mdatabaseConnection\u001b[0m\u001b[0;34m\u001b[0m\u001b[0;34m\u001b[0m\u001b[0m\n\u001b[0;32m----> 2\u001b[0;31m \u001b[0;32mfrom\u001b[0m \u001b[0mgoogle\u001b[0m\u001b[0;34m.\u001b[0m\u001b[0mcloud\u001b[0m \u001b[0;32mimport\u001b[0m \u001b[0mbigquery\u001b[0m\u001b[0;34m\u001b[0m\u001b[0;34m\u001b[0m\u001b[0m\n\u001b[0m",
      "\u001b[0;31mModuleNotFoundError\u001b[0m: No module named 'google.cloud'"
     ]
    }
   ],
   "source": [
    "from database_connection import databaseConnection\n",
    "from google.cloud import bigquery\n"
   ]
  },
  {
   "cell_type": "code",
   "execution_count": null,
   "metadata": {},
   "outputs": [],
   "source": []
  },
  {
   "cell_type": "code",
   "execution_count": 20,
   "metadata": {},
   "outputs": [],
   "source": [
    "import re\n",
    "from datetime import datetime as dt\n",
    "from savReaderWriter import SavReader\n",
    "\n",
    "def _get_chunck_cutoffs(file_length):\n",
    "    interval=10_000\n",
    "    i0=0\n",
    "    i1=interval\n",
    "    c_list=[]\n",
    "    while i1 <= file_length:\n",
    "        c = [i0, i1]\n",
    "        c_list += [c]\n",
    "        i0 = i1 + 1\n",
    "        i1 = i0 + (interval - 1)\n",
    "    c_list = c_list + [[i0, file_length]]\n",
    "    return c_list\n",
    "\n",
    "\n",
    "def spss_to_csv(filename):\n",
    "    with SavReader(filename) as reader:\n",
    "        header = [re.sub(\"(\\'|b)\", \"\", str(h)) for h in reader.header]\n",
    "        file_length = len(reader)\n",
    "        lines = []\n",
    "        df = pd.DataFrame(columns=header)\n",
    "        chunck_cutoffs = _get_chunck_cutoffs(file_length)\n",
    "        for i, chunk in enumerate(chunck_cutoffs):\n",
    "            for line in reader[chunk[0] : chunk[1]]:\n",
    "                lines += [line]\n",
    "            df_tmp = pd.DataFrame(lines, columns=header)\n",
    "            filename_out = re.sub(\"\\.sav\", \"_{}.csv\".format(i), filename)\n",
    "            print(\"LOADING {} of {}: {}\".format(\n",
    "                chunk[1], file_length, filename_out))\n",
    "            df_tmp.to_csv(filename_out)\n",
    "\n",
    "\n"
   ]
  },
  {
   "cell_type": "code",
   "execution_count": 21,
   "metadata": {},
   "outputs": [],
   "source": [
    "# df = spss_to_csv(sav_file)\n",
    "# df.head()"
   ]
  },
  {
   "cell_type": "code",
   "execution_count": null,
   "metadata": {},
   "outputs": [],
   "source": []
  },
  {
   "cell_type": "code",
   "execution_count": 28,
   "metadata": {},
   "outputs": [],
   "source": [
    "\n",
    "def csv_to_db(source_file, full_table_id):\n",
    "    \n",
    "    db = databaseConnection()\n",
    "    project_id = full_table_id.split('.')[0]\n",
    "    dataset_id = full_table_id.split('.')[1]\n",
    "    table_id = full_table_id.split('.')[2]\n",
    "    client = bigquery.Client(project=project_id, credentials=db.credentials)\n",
    "    dataset_ref = client.dataset(dataset_id)\n",
    "    table_ref = dataset_ref.table(full_table_id.split('.')[2])\n",
    "    job_config = bigquery.LoadJobConfig()\n",
    "    job_config.source_format = bigquery.SourceFormat.CSV\n",
    "    job_config.skip_leading_rows = 1\n",
    "    job_config.autodetect = True\n",
    "    with open(filename, \"rb\") as source_file:\n",
    "        job = client.load_table_from_file(source_file, table_ref, job_config=job_config)\n",
    "    job.result()  # Waits for table load to complete.\n",
    "    print(\"Loaded {} rows into {}:{}.{}.\".format(\n",
    "        job.output_rows, project_id, dataset_id, table_id))\n",
    "\n"
   ]
  },
  {
   "cell_type": "code",
   "execution_count": 29,
   "metadata": {},
   "outputs": [],
   "source": [
    "filename = '/home/jovyan/project-implicit/data/race_iat/Race_IAT.public.2019_0.csv'\n",
    "full_table_id = 'algomosaic-nyc.project_implicit.test_table'\n"
   ]
  },
  {
   "cell_type": "code",
   "execution_count": 30,
   "metadata": {},
   "outputs": [
    {
     "name": "stdin",
     "output_type": "stream",
     "text": [
      "Enter the file path and name for GCP's Service Account credentials file. See for more details:\n",
      "https://console.cloud.google.com/iam-admin/serviceaccounts?project=<projectId>\n",
      "The current directory is: /home/jovyan/project-implicit/src.\n",
      " /home/jovyan/project-implicit/src/project-implicit.json\n"
     ]
    },
    {
     "name": "stdout",
     "output_type": "stream",
     "text": [
      "Loaded 10000 rows into project_implicit:test_table.\n"
     ]
    }
   ],
   "source": [
    "csv_to_db(source_file=filename, full_table_id=full_table_id)\n"
   ]
  },
  {
   "cell_type": "code",
   "execution_count": null,
   "metadata": {},
   "outputs": [],
   "source": []
  },
  {
   "cell_type": "code",
   "execution_count": null,
   "metadata": {},
   "outputs": [],
   "source": []
  },
  {
   "cell_type": "code",
   "execution_count": null,
   "metadata": {},
   "outputs": [],
   "source": []
  },
  {
   "cell_type": "code",
   "execution_count": null,
   "metadata": {},
   "outputs": [],
   "source": []
  },
  {
   "cell_type": "code",
   "execution_count": null,
   "metadata": {},
   "outputs": [],
   "source": []
  },
  {
   "cell_type": "code",
   "execution_count": null,
   "metadata": {},
   "outputs": [],
   "source": []
  },
  {
   "cell_type": "code",
   "execution_count": null,
   "metadata": {},
   "outputs": [],
   "source": []
  },
  {
   "cell_type": "code",
   "execution_count": null,
   "metadata": {},
   "outputs": [],
   "source": []
  },
  {
   "cell_type": "code",
   "execution_count": null,
   "metadata": {},
   "outputs": [],
   "source": []
  },
  {
   "cell_type": "code",
   "execution_count": null,
   "metadata": {},
   "outputs": [],
   "source": []
  }
 ],
 "metadata": {
  "kernelspec": {
   "display_name": "Python 3",
   "language": "python",
   "name": "python3"
  },
  "language_info": {
   "codemirror_mode": {
    "name": "ipython",
    "version": 3
   },
   "file_extension": ".py",
   "mimetype": "text/x-python",
   "name": "python",
   "nbconvert_exporter": "python",
   "pygments_lexer": "ipython3",
   "version": "3.7.6"
  }
 },
 "nbformat": 4,
 "nbformat_minor": 4
}
