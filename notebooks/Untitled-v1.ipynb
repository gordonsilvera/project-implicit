{
 "cells": [
  {
   "cell_type": "code",
   "execution_count": 1,
   "metadata": {},
   "outputs": [],
   "source": [
    "# !python /home/jovyan/work/src/set_import_paths.py\n",
    "import pandas as pd\n",
    "from savReaderWriter import SavReader"
   ]
  },
  {
   "cell_type": "code",
   "execution_count": 2,
   "metadata": {},
   "outputs": [],
   "source": [
    "sav_file = \"/home/jovyan/work/data/race_iat/Race_IAT.public.2019.sav\""
   ]
  },
  {
   "cell_type": "code",
   "execution_count": 3,
   "metadata": {},
   "outputs": [],
   "source": [
    "# df = pd.read_spss(sav_file)"
   ]
  },
  {
   "cell_type": "code",
   "execution_count": null,
   "metadata": {},
   "outputs": [],
   "source": []
  },
  {
   "cell_type": "code",
   "execution_count": 4,
   "metadata": {},
   "outputs": [],
   "source": [
    "from savReaderWriter import SavReader"
   ]
  },
  {
   "cell_type": "code",
   "execution_count": 5,
   "metadata": {},
   "outputs": [],
   "source": [
    "import re\n",
    "from datetime import datetime as dt\n",
    "\n",
    "def _get_chunck_cutoffs(file_length):\n",
    "    interval=10_000\n",
    "    i0=0\n",
    "    i1=interval\n",
    "    c_list=[]\n",
    "    while i1 <= file_length:\n",
    "        c = [i0, i1]\n",
    "        c_list += [c]\n",
    "        i0 = i1 + 1\n",
    "        i1 = i0 + (interval - 1)\n",
    "    c_list = c_list + [[i0, file_length]]\n",
    "    return c_list\n",
    "\n",
    "\n",
    "def spss_to_csv(filename):\n",
    "    with SavReader(filename) as reader:\n",
    "        header = [re.sub(\"(\\'|b)\", \"\", str(h)) for h in reader.header]\n",
    "        file_length = len(reader)\n",
    "        lines = []\n",
    "        df = pd.DataFrame(columns=header)\n",
    "        chunck_cutoffs = _get_chunck_cutoffs(file_length)\n",
    "        for i, chunk in enumerate(chunck_cutoffs):\n",
    "            for line in reader[chunk[0] : chunk[1]]:\n",
    "                lines += [line]\n",
    "            df_tmp = pd.DataFrame(lines, columns=header)\n",
    "            filename_out = re.sub(\"\\.sav\", \"_{}.csv\".format(i), filename)\n",
    "            print(\"LOADING {} of {}: {}\".format(\n",
    "                chunk[1], file_length, filename_out))\n",
    "            df_tmp.to_csv(filename_out)\n",
    "\n",
    "\n"
   ]
  },
  {
   "cell_type": "code",
   "execution_count": null,
   "metadata": {},
   "outputs": [
    {
     "name": "stdout",
     "output_type": "stream",
     "text": [
      "LOADING 10000 of 875209: /home/jovyan/work/data/race_iat/Race_IAT.public.2019_0.csv\n",
      "LOADING 20000 of 875209: /home/jovyan/work/data/race_iat/Race_IAT.public.2019_1.csv\n",
      "LOADING 30000 of 875209: /home/jovyan/work/data/race_iat/Race_IAT.public.2019_2.csv\n",
      "LOADING 40000 of 875209: /home/jovyan/work/data/race_iat/Race_IAT.public.2019_3.csv\n",
      "LOADING 50000 of 875209: /home/jovyan/work/data/race_iat/Race_IAT.public.2019_4.csv\n",
      "LOADING 60000 of 875209: /home/jovyan/work/data/race_iat/Race_IAT.public.2019_5.csv\n",
      "LOADING 70000 of 875209: /home/jovyan/work/data/race_iat/Race_IAT.public.2019_6.csv\n",
      "LOADING 80000 of 875209: /home/jovyan/work/data/race_iat/Race_IAT.public.2019_7.csv\n",
      "LOADING 90000 of 875209: /home/jovyan/work/data/race_iat/Race_IAT.public.2019_8.csv\n",
      "LOADING 100000 of 875209: /home/jovyan/work/data/race_iat/Race_IAT.public.2019_9.csv\n",
      "LOADING 110000 of 875209: /home/jovyan/work/data/race_iat/Race_IAT.public.2019_10.csv\n",
      "LOADING 120000 of 875209: /home/jovyan/work/data/race_iat/Race_IAT.public.2019_11.csv\n"
     ]
    }
   ],
   "source": [
    "df = spss_to_csv(sav_file)\n",
    "df.head()"
   ]
  },
  {
   "cell_type": "code",
   "execution_count": null,
   "metadata": {},
   "outputs": [],
   "source": []
  },
  {
   "cell_type": "code",
   "execution_count": 6,
   "metadata": {},
   "outputs": [
    {
     "ename": "ModuleNotFoundError",
     "evalue": "No module named 'google.cloud'",
     "output_type": "error",
     "traceback": [
      "\u001b[0;31m---------------------------------------------------------------------------\u001b[0m",
      "\u001b[0;31mModuleNotFoundError\u001b[0m                       Traceback (most recent call last)",
      "\u001b[0;32m<ipython-input-6-c15147028c7d>\u001b[0m in \u001b[0;36m<module>\u001b[0;34m\u001b[0m\n\u001b[0;32m----> 1\u001b[0;31m \u001b[0;32mfrom\u001b[0m \u001b[0mgoogle\u001b[0m\u001b[0;34m.\u001b[0m\u001b[0mcloud\u001b[0m \u001b[0;32mimport\u001b[0m \u001b[0mbigquery\u001b[0m\u001b[0;34m\u001b[0m\u001b[0;34m\u001b[0m\u001b[0m\n\u001b[0m\u001b[1;32m      2\u001b[0m \u001b[0mclient\u001b[0m \u001b[0;34m=\u001b[0m \u001b[0mbigquery\u001b[0m\u001b[0;34m.\u001b[0m\u001b[0mClient\u001b[0m\u001b[0;34m(\u001b[0m\u001b[0;34m)\u001b[0m\u001b[0;34m\u001b[0m\u001b[0;34m\u001b[0m\u001b[0m\n\u001b[1;32m      3\u001b[0m \u001b[0mfilename\u001b[0m \u001b[0;34m=\u001b[0m \u001b[0;34m'/home/jovyan/work/data/race_iat/Race_IAT.public.2019_0.csv'\u001b[0m\u001b[0;34m\u001b[0m\u001b[0;34m\u001b[0m\u001b[0m\n\u001b[1;32m      4\u001b[0m \u001b[0mdataset_id\u001b[0m \u001b[0;34m=\u001b[0m \u001b[0;34m'project_implicit'\u001b[0m\u001b[0;34m\u001b[0m\u001b[0;34m\u001b[0m\u001b[0m\n\u001b[1;32m      5\u001b[0m \u001b[0mtable_id\u001b[0m \u001b[0;34m=\u001b[0m \u001b[0;34m'race_iat'\u001b[0m\u001b[0;34m\u001b[0m\u001b[0;34m\u001b[0m\u001b[0m\n",
      "\u001b[0;31mModuleNotFoundError\u001b[0m: No module named 'google.cloud'"
     ]
    }
   ],
   "source": [
    "\n",
    "from google.cloud import bigquery\n",
    "client = bigquery.Client()\n",
    "filename = '/home/jovyan/work/data/race_iat/Race_IAT.public.2019_0.csv'\n",
    "dataset_id = 'project_implicit'\n",
    "table_id = 'race_iat'\n",
    "\n",
    "dataset_ref = client.dataset(dataset_id)\n",
    "table_ref = dataset_ref.table(table_id)\n",
    "job_config = bigquery.LoadJobConfig()\n",
    "job_config.source_format = bigquery.SourceFormat.CSV\n",
    "job_config.skip_leading_rows = 1\n",
    "job_config.autodetect = True\n",
    "\n",
    "with open(filename, \"rb\") as source_file:\n",
    "    job = client.load_table_from_file(source_file, table_ref, job_config=job_config)\n",
    "\n",
    "job.result()  # Waits for table load to complete.\n",
    "\n",
    "print(\"Loaded {} rows into {}:{}.\".format(job.output_rows, dataset_id, table_id))\n",
    "\n"
   ]
  },
  {
   "cell_type": "code",
   "execution_count": null,
   "metadata": {},
   "outputs": [],
   "source": []
  },
  {
   "cell_type": "code",
   "execution_count": 11,
   "metadata": {},
   "outputs": [],
   "source": [
    "# from ..src import database_connection\n",
    "# from .. import src\n",
    "# from ..implicit import database_connection"
   ]
  },
  {
   "cell_type": "code",
   "execution_count": null,
   "metadata": {},
   "outputs": [],
   "source": []
  },
  {
   "cell_type": "code",
   "execution_count": null,
   "metadata": {},
   "outputs": [],
   "source": []
  },
  {
   "cell_type": "code",
   "execution_count": null,
   "metadata": {},
   "outputs": [],
   "source": []
  },
  {
   "cell_type": "code",
   "execution_count": null,
   "metadata": {},
   "outputs": [],
   "source": []
  },
  {
   "cell_type": "code",
   "execution_count": 8,
   "metadata": {},
   "outputs": [
    {
     "data": {
      "text/plain": [
       "'/home/jovyan/work/notebooks'"
      ]
     },
     "execution_count": 8,
     "metadata": {},
     "output_type": "execute_result"
    }
   ],
   "source": [
    "pwd"
   ]
  },
  {
   "cell_type": "code",
   "execution_count": 1,
   "metadata": {},
   "outputs": [],
   "source": [
    "import sys\n",
    "import os\n"
   ]
  },
  {
   "cell_type": "code",
   "execution_count": 9,
   "metadata": {},
   "outputs": [],
   "source": [
    "# PACKAGE_PARENT = '..'\n",
    "# SCRIPT_DIR = os.path.dirname(os.path.realpath(os.path.join(os.getcwd(), os.path.expanduser(__file__))))\n",
    "# sys.path.append(os.path.normpath(os.path.join(SCRIPT_DIR, PACKAGE_PARENT)))\n"
   ]
  },
  {
   "cell_type": "code",
   "execution_count": null,
   "metadata": {},
   "outputs": [],
   "source": []
  },
  {
   "cell_type": "code",
   "execution_count": 10,
   "metadata": {},
   "outputs": [],
   "source": [
    "# sys.path.append('/home/jovyan/work/implicit')\n",
    "sys.path.append('/home/jovyan/work')\n"
   ]
  },
  {
   "cell_type": "code",
   "execution_count": 8,
   "metadata": {},
   "outputs": [],
   "source": [
    "from implicit import database_connection"
   ]
  },
  {
   "cell_type": "code",
   "execution_count": null,
   "metadata": {},
   "outputs": [],
   "source": []
  },
  {
   "cell_type": "code",
   "execution_count": null,
   "metadata": {},
   "outputs": [],
   "source": []
  }
 ],
 "metadata": {
  "kernelspec": {
   "display_name": "Python 3",
   "language": "python",
   "name": "python3"
  },
  "language_info": {
   "codemirror_mode": {
    "name": "ipython",
    "version": 3
   },
   "file_extension": ".py",
   "mimetype": "text/x-python",
   "name": "python",
   "nbconvert_exporter": "python",
   "pygments_lexer": "ipython3",
   "version": "3.7.6"
  }
 },
 "nbformat": 4,
 "nbformat_minor": 4
}
